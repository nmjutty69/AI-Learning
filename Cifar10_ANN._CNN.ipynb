{
 "cells": [
  {
   "cell_type": "markdown",
   "id": "68a65496",
   "metadata": {},
   "source": [
    "**ANN** - `Artificial Neural Network`         **Image Classification**"
   ]
  },
  {
   "cell_type": "markdown",
   "id": "d8f89ad3",
   "metadata": {},
   "source": [
    "**CNN** - `Convolutional Neural Network`      **Train Images**"
   ]
  },
  {
   "cell_type": "markdown",
   "id": "c18a408f",
   "metadata": {},
   "source": [
    "***Dataset*** - `from tensorflow \"Cifar10\"`"
   ]
  },
  {
   "cell_type": "code",
   "execution_count": 2,
   "id": "c39fc2d8",
   "metadata": {},
   "outputs": [],
   "source": [
    "import numpy as np                                                      # Numerical computing: arrays, linear algebra, vectorized operations\n",
    "import matplotlib.pyplot as plt                                         # Plotting and visualization of images/curves\n",
    "from sklearn.metrics import confusion_matrix , classification_report    # Classification evaluation metrics\n",
    "import tensorflow as tf                                                 # Deep learning framework\n",
    "from tensorflow.keras import datasets, layers, models                   # Keras APIs: dataset loaders, layers, and model containers"
   ]
  },
  {
   "cell_type": "code",
   "execution_count": 3,
   "id": "06c54063",
   "metadata": {},
   "outputs": [],
   "source": [
    "(Features_train, Target_train), (Features_test, Target_test) = datasets.cifar10.load_data()             #Loading Dataset from tensorflow"
   ]
  },
  {
   "cell_type": "code",
   "execution_count": 4,
   "id": "f284cd85",
   "metadata": {},
   "outputs": [
    {
     "data": {
      "text/plain": [
       "(50000, 32, 32, 3)"
      ]
     },
     "execution_count": 4,
     "metadata": {},
     "output_type": "execute_result"
    }
   ],
   "source": [
    "Features_train.shape"
   ]
  },
  {
   "cell_type": "code",
   "execution_count": 5,
   "id": "12a9f4b9",
   "metadata": {},
   "outputs": [
    {
     "data": {
      "text/plain": [
       "(10000, 32, 32, 3)"
      ]
     },
     "execution_count": 5,
     "metadata": {},
     "output_type": "execute_result"
    }
   ],
   "source": [
    "Features_test.shape"
   ]
  },
  {
   "cell_type": "code",
   "execution_count": 6,
   "id": "aeec6828",
   "metadata": {},
   "outputs": [
    {
     "data": {
      "text/plain": [
       "(50000, 1)"
      ]
     },
     "execution_count": 6,
     "metadata": {},
     "output_type": "execute_result"
    }
   ],
   "source": [
    "Target_train.shape"
   ]
  },
  {
   "cell_type": "code",
   "execution_count": 7,
   "id": "ccd9003a",
   "metadata": {},
   "outputs": [
    {
     "data": {
      "text/plain": [
       "array([[6],\n",
       "       [9],\n",
       "       [9],\n",
       "       [4],\n",
       "       [1]], dtype=uint8)"
      ]
     },
     "execution_count": 7,
     "metadata": {},
     "output_type": "execute_result"
    }
   ],
   "source": [
    "Target_train[:5]"
   ]
  },
  {
   "cell_type": "code",
   "execution_count": 8,
   "id": "d5a3c25f",
   "metadata": {},
   "outputs": [
    {
     "data": {
      "text/plain": [
       "array([6, 9, 9, 4, 1], dtype=uint8)"
      ]
     },
     "execution_count": 8,
     "metadata": {},
     "output_type": "execute_result"
    }
   ],
   "source": [
    "Target_train = Target_train.reshape(-1)             # Flatten labels from shape (N, 1) to (N,) for model/training APIs\n",
    "Target_train[:5]                                    # Preview first five labels"
   ]
  },
  {
   "cell_type": "code",
   "execution_count": 9,
   "id": "c9b4d5fe",
   "metadata": {},
   "outputs": [
    {
     "data": {
      "text/plain": [
       "array([[3],\n",
       "       [8],\n",
       "       [8],\n",
       "       [0],\n",
       "       [6]], dtype=uint8)"
      ]
     },
     "execution_count": 9,
     "metadata": {},
     "output_type": "execute_result"
    }
   ],
   "source": [
    "Target_test[:5]"
   ]
  },
  {
   "cell_type": "code",
   "execution_count": 10,
   "id": "25a132b7",
   "metadata": {},
   "outputs": [
    {
     "data": {
      "text/plain": [
       "array([3, 8, 8, 0, 6], dtype=uint8)"
      ]
     },
     "execution_count": 10,
     "metadata": {},
     "output_type": "execute_result"
    }
   ],
   "source": [
    "Target_test = Target_test.reshape(-1)               # Flatten labels from shape (N, 1) to (N,) for model/evaluation APIs\n",
    "Target_test[:5]                                     # Preview first five labels"
   ]
  },
  {
   "cell_type": "code",
   "execution_count": 11,
   "id": "31b827d6",
   "metadata": {},
   "outputs": [],
   "source": [
    "Classes = [\"airplane\",\"automobile\",\"bird\",\"cat\",\"deer\",\"dog\",\"frog\",\"horse\",\"ship\",\"truck\"]"
   ]
  },
  {
   "cell_type": "code",
   "execution_count": 12,
   "id": "4e7fda83",
   "metadata": {},
   "outputs": [],
   "source": [
    "def plot_sample(X, y, index):\n",
    "    plt.figure(figsize = (15,2))\n",
    "    plt.imshow(X[index])\n",
    "    plt.xlabel(Classes[y[index]])"
   ]
  },
  {
   "cell_type": "code",
   "execution_count": 13,
   "id": "0fac48fc",
   "metadata": {},
   "outputs": [
    {
     "data": {
      "image/png": "[encoded data removed]",
      "text/plain": [
       "<Figure size 1500x200 with 1 Axes>"
      ]
     },
     "metadata": {},
     "output_type": "display_data"
    }
   ],
   "source": [
    "plot_sample(Features_train, Target_train, 0)"
   ]
  },
  {
   "cell_type": "code",
   "execution_count": 14,
   "id": "885f6d2d",
   "metadata": {},
   "outputs": [
    {
     "data": {
      "image/png": "[encoded data removed]",
      "text/plain": [
       "<Figure size 1500x200 with 1 Axes>"
      ]
     },
     "metadata": {},
     "output_type": "display_data"
    }
   ],
   "source": [
    "plot_sample(Features_train, Target_train, 1)"
   ]
  },
  {
   "cell_type": "code",
   "execution_count": 15,
   "id": "7005b77e",
   "metadata": {},
   "outputs": [],
   "source": [
    "Features_train = Features_train/255.0\n",
    "Features_test = Features_test/255.0"
   ]
  },
  {
   "cell_type": "markdown",
   "id": "540134fd",
   "metadata": {},
   "source": [
    "**ANN** - `Artificial Neural Network`         **Image Classification**"
   ]
  },
  {
   "cell_type": "code",
   "execution_count": 16,
   "id": "ec178878",
   "metadata": {},
   "outputs": [
    {
     "name": "stderr",
     "output_type": "stream",
     "text": [
      "/home/nauman/miniconda3/lib/python3.13/site-packages/keras/src/layers/reshaping/flatten.py:37: UserWarning: Do not pass an `input_shape`/`input_dim` argument to a layer. When using Sequential models, prefer using an `Input(shape)` object as the first layer in the model instead.\n",
      "  super().__init__(**kwargs)\n",
      "2025-08-08 12:41:03.354643: E external/local_xla/xla/stream_executor/cuda/cuda_platform.cc:51] failed call to cuInit: INTERNAL: CUDA error: Failed call to cuInit: UNKNOWN ERROR (303)\n",
      "2025-08-08 12:41:10.985464: W external/local_xla/xla/tsl/framework/cpu_allocator_impl.cc:84] Allocation of 614400000 exceeds 10% of free system memory.\n"
     ]
    },
    {
     "name": "stdout",
     "output_type": "stream",
     "text": [
      "Epoch 1/5\n",
      "\u001b[1m1563/1563\u001b[0m \u001b[32m━━━━━━━━━━━━━━━━━━━━\u001b[0m\u001b[37m\u001b[0m \u001b[1m129s\u001b[0m 82ms/step - accuracy: 0.3560 - loss: 1.8115\n",
      "Epoch 2/5\n",
      "\u001b[1m1563/1563\u001b[0m \u001b[32m━━━━━━━━━━━━━━━━━━━━\u001b[0m\u001b[37m\u001b[0m \u001b[1m124s\u001b[0m 79ms/step - accuracy: 0.4288 - loss: 1.6211\n",
      "Epoch 3/5\n",
      "\u001b[1m1563/1563\u001b[0m \u001b[32m━━━━━━━━━━━━━━━━━━━━\u001b[0m\u001b[37m\u001b[0m \u001b[1m123s\u001b[0m 79ms/step - accuracy: 0.4563 - loss: 1.5389\n",
      "Epoch 4/5\n",
      "\u001b[1m1563/1563\u001b[0m \u001b[32m━━━━━━━━━━━━━━━━━━━━\u001b[0m\u001b[37m\u001b[0m \u001b[1m125s\u001b[0m 80ms/step - accuracy: 0.4779 - loss: 1.4803\n",
      "Epoch 5/5\n",
      "\u001b[1m1563/1563\u001b[0m \u001b[32m━━━━━━━━━━━━━━━━━━━━\u001b[0m\u001b[37m\u001b[0m \u001b[1m123s\u001b[0m 79ms/step - accuracy: 0.4964 - loss: 1.4310\n"
     ]
    },
    {
     "data": {
      "text/plain": [
       "<keras.src.callbacks.history.History at 0x7ddbc4e00ad0>"
      ]
     },
     "execution_count": 16,
     "metadata": {},
     "output_type": "execute_result"
    }
   ],
   "source": [
    "ANN = models.Sequential([                               # Define a feedforward ANN as a stack of layers\n",
    "        layers.Flatten(input_shape=(32,32,3)),          # Flatten 32x32x3 image to 1D vector (3072)\n",
    "        layers.Dense(3000, activation='relu'),          # Hidden layer: 3000 units with ReLU\n",
    "        layers.Dense(1000, activation='relu'),          # Hidden layer: 1000 units with ReLU\n",
    "        layers.Dense(10, activation='softmax')          # Output: 10 class probabilities via softmax\n",
    "    ])\n",
    "\n",
    "ANN.compile(optimizer='SGD',                            # Stochastic Gradient Descent optimizer\n",
    "              loss='sparse_categorical_crossentropy',   # For integer labels (not one-hot)\n",
    "              metrics=['accuracy'])                     # Report accuracy during training\n",
    "\n",
    "ANN.fit(Features_train, Target_train, epochs=5)         # Train the ANN for 5 epochs on training data"
   ]
  },
  {
   "cell_type": "code",
   "execution_count": null,
   "id": "8d99890c",
   "metadata": {},
   "outputs": [
    {
     "name": "stdout",
     "output_type": "stream",
     "text": [
      "\u001b[1m  1/313\u001b[0m \u001b[37m━━━━━━━━━━━━━━━━━━━━\u001b[0m \u001b[1m35s\u001b[0m 113ms/step"
     ]
    },
    {
     "name": "stderr",
     "output_type": "stream",
     "text": [
      "2025-08-08 12:52:23.865004: W external/local_xla/xla/tsl/framework/cpu_allocator_impl.cc:84] Allocation of 122880000 exceeds 10% of free system memory.\n"
     ]
    },
    {
     "name": "stdout",
     "output_type": "stream",
     "text": [
      "\u001b[1m313/313\u001b[0m \u001b[32m━━━━━━━━━━━━━━━━━━━━\u001b[0m\u001b[37m\u001b[0m \u001b[1m7s\u001b[0m 23ms/step\n",
      "Classifications Report: \n",
      "               precision    recall  f1-score   support\n",
      "\n",
      "           0       0.63      0.47      0.54      1000\n",
      "           1       0.40      0.84      0.54      1000\n",
      "           2       0.39      0.35      0.37      1000\n",
      "           3       0.30      0.54      0.38      1000\n",
      "           4       0.54      0.26      0.35      1000\n",
      "           5       0.50      0.23      0.31      1000\n",
      "           6       0.51      0.56      0.53      1000\n",
      "           7       0.52      0.60      0.56      1000\n",
      "           8       0.63      0.57      0.60      1000\n",
      "           9       0.72      0.24      0.36      1000\n",
      "\n",
      "    accuracy                           0.47     10000\n",
      "   macro avg       0.51      0.47      0.45     10000\n",
      "weighted avg       0.51      0.47      0.45     10000\n",
      "\n"
     ]
    }
   ],
   "source": [
    "Target_predictions = ANN.predict(Features_test)                                                      # Predict class probabilities for test set\n",
    "Target_predictions_classes = [np.argmax(element) for element in Target_predictions]                  # Convert probs to class indices\n",
    "print(\"Classifications Report: \\n\", classification_report(Target_test, Target_predictions_classes))  # Precision/Recall/F1 per class"
   ]
  },
  {
   "cell_type": "markdown",
   "id": "56e8ddb4",
   "metadata": {},
   "source": [
    "**CNN** - `Convolutional Neural Network`      **Train Images**"
   ]
  },
  {
   "cell_type": "code",
   "execution_count": 18,
   "id": "5f8fcb0b",
   "metadata": {},
   "outputs": [
    {
     "name": "stderr",
     "output_type": "stream",
     "text": [
      "/home/nauman/miniconda3/lib/python3.13/site-packages/keras/src/layers/convolutional/base_conv.py:113: UserWarning: Do not pass an `input_shape`/`input_dim` argument to a layer. When using Sequential models, prefer using an `Input(shape)` object as the first layer in the model instead.\n",
      "  super().__init__(activity_regularizer=activity_regularizer, **kwargs)\n"
     ]
    }
   ],
   "source": [
    "CNN = models.Sequential([                                                                       # Define a CNN as a sequence of layers\n",
    "    layers.Conv2D(filters=32, kernel_size=(3, 3), activation='relu', input_shape=(32, 32, 3)),  # Conv block 1: 32 filters\n",
    "    layers.MaxPooling2D((2, 2)),                                                                # Downsample feature maps by 2x\n",
    "    \n",
    "    layers.Conv2D(filters=64, kernel_size=(3, 3), activation='relu'),                           # Conv block 2: 64 filters\n",
    "    layers.MaxPooling2D((2, 2)),                                                                # Further downsampling\n",
    "    \n",
    "    layers.Flatten(),                                                                           # Flatten feature maps to 1D\n",
    "    layers.Dense(64, activation='relu'),                                                        # Fully-connected layer\n",
    "    layers.Dense(10, activation='softmax')                                                      # Output: 10 class probabilities\n",
    "])"
   ]
  },
  {
   "cell_type": "code",
   "execution_count": 19,
   "id": "c09b6a8b",
   "metadata": {},
   "outputs": [],
   "source": [
    "CNN.compile(optimizer='adam',\n",
    "              loss='sparse_categorical_crossentropy',\n",
    "              metrics=['accuracy'])"
   ]
  },
  {
   "cell_type": "code",
   "execution_count": 20,
   "id": "61416918",
   "metadata": {},
   "outputs": [
    {
     "name": "stdout",
     "output_type": "stream",
     "text": [
      "Epoch 1/10\n"
     ]
    },
    {
     "name": "stderr",
     "output_type": "stream",
     "text": [
      "2025-08-08 12:53:09.022956: W external/local_xla/xla/tsl/framework/cpu_allocator_impl.cc:84] Allocation of 614400000 exceeds 10% of free system memory.\n"
     ]
    },
    {
     "name": "stdout",
     "output_type": "stream",
     "text": [
      "\u001b[1m1563/1563\u001b[0m \u001b[32m━━━━━━━━━━━━━━━━━━━━\u001b[0m\u001b[37m\u001b[0m \u001b[1m48s\u001b[0m 29ms/step - accuracy: 0.4418 - loss: 1.5399\n",
      "Epoch 2/10\n",
      "\u001b[1m1563/1563\u001b[0m \u001b[32m━━━━━━━━━━━━━━━━━━━━\u001b[0m\u001b[37m\u001b[0m \u001b[1m44s\u001b[0m 28ms/step - accuracy: 0.5783 - loss: 1.2027\n",
      "Epoch 3/10\n",
      "\u001b[1m1563/1563\u001b[0m \u001b[32m━━━━━━━━━━━━━━━━━━━━\u001b[0m\u001b[37m\u001b[0m \u001b[1m44s\u001b[0m 28ms/step - accuracy: 0.6352 - loss: 1.0524\n",
      "Epoch 4/10\n",
      "\u001b[1m1563/1563\u001b[0m \u001b[32m━━━━━━━━━━━━━━━━━━━━\u001b[0m\u001b[37m\u001b[0m \u001b[1m45s\u001b[0m 29ms/step - accuracy: 0.6692 - loss: 0.9603\n",
      "Epoch 5/10\n",
      "\u001b[1m1563/1563\u001b[0m \u001b[32m━━━━━━━━━━━━━━━━━━━━\u001b[0m\u001b[37m\u001b[0m \u001b[1m47s\u001b[0m 30ms/step - accuracy: 0.6891 - loss: 0.8957\n",
      "Epoch 6/10\n",
      "\u001b[1m1563/1563\u001b[0m \u001b[32m━━━━━━━━━━━━━━━━━━━━\u001b[0m\u001b[37m\u001b[0m \u001b[1m47s\u001b[0m 30ms/step - accuracy: 0.7091 - loss: 0.8449\n",
      "Epoch 7/10\n",
      "\u001b[1m1563/1563\u001b[0m \u001b[32m━━━━━━━━━━━━━━━━━━━━\u001b[0m\u001b[37m\u001b[0m \u001b[1m45s\u001b[0m 29ms/step - accuracy: 0.7256 - loss: 0.7996\n",
      "Epoch 8/10\n",
      "\u001b[1m1563/1563\u001b[0m \u001b[32m━━━━━━━━━━━━━━━━━━━━\u001b[0m\u001b[37m\u001b[0m \u001b[1m45s\u001b[0m 28ms/step - accuracy: 0.7377 - loss: 0.7627\n",
      "Epoch 9/10\n",
      "\u001b[1m1563/1563\u001b[0m \u001b[32m━━━━━━━━━━━━━━━━━━━━\u001b[0m\u001b[37m\u001b[0m \u001b[1m46s\u001b[0m 29ms/step - accuracy: 0.7484 - loss: 0.7276\n",
      "Epoch 10/10\n",
      "\u001b[1m1563/1563\u001b[0m \u001b[32m━━━━━━━━━━━━━━━━━━━━\u001b[0m\u001b[37m\u001b[0m \u001b[1m46s\u001b[0m 30ms/step - accuracy: 0.7588 - loss: 0.7010\n"
     ]
    },
    {
     "data": {
      "text/plain": [
       "<keras.src.callbacks.history.History at 0x7ddbd09fdbd0>"
      ]
     },
     "execution_count": 20,
     "metadata": {},
     "output_type": "execute_result"
    }
   ],
   "source": [
    "CNN.fit(Features_train, Target_train, epochs=10)"
   ]
  },
  {
   "cell_type": "code",
   "execution_count": 21,
   "id": "7ccd3730",
   "metadata": {},
   "outputs": [
    {
     "name": "stderr",
     "output_type": "stream",
     "text": [
      "2025-08-08 13:00:56.429665: W external/local_xla/xla/tsl/framework/cpu_allocator_impl.cc:84] Allocation of 122880000 exceeds 10% of free system memory.\n"
     ]
    },
    {
     "name": "stdout",
     "output_type": "stream",
     "text": [
      "\u001b[1m313/313\u001b[0m \u001b[32m━━━━━━━━━━━━━━━━━━━━\u001b[0m\u001b[37m\u001b[0m \u001b[1m4s\u001b[0m 10ms/step - accuracy: 0.7010 - loss: 0.8787\n"
     ]
    },
    {
     "data": {
      "text/plain": [
       "[0.8786793947219849, 0.7009999752044678]"
      ]
     },
     "execution_count": 21,
     "metadata": {},
     "output_type": "execute_result"
    }
   ],
   "source": [
    "CNN.evaluate(Features_test,Target_test)"
   ]
  },
  {
   "cell_type": "code",
   "execution_count": 22,
   "id": "62969db7",
   "metadata": {},
   "outputs": [
    {
     "name": "stderr",
     "output_type": "stream",
     "text": [
      "2025-08-08 13:01:04.127771: W external/local_xla/xla/tsl/framework/cpu_allocator_impl.cc:84] Allocation of 122880000 exceeds 10% of free system memory.\n"
     ]
    },
    {
     "name": "stdout",
     "output_type": "stream",
     "text": [
      "\u001b[1m313/313\u001b[0m \u001b[32m━━━━━━━━━━━━━━━━━━━━\u001b[0m\u001b[37m\u001b[0m \u001b[1m4s\u001b[0m 12ms/step\n"
     ]
    },
    {
     "data": {
      "text/plain": [
       "array([[7.5526377e-03, 3.2438710e-04, 9.7591653e-03, 6.7983079e-01,\n",
       "        2.3174004e-04, 8.8166438e-02, 1.8156105e-01, 4.4823345e-04,\n",
       "        3.0964512e-02, 1.1609721e-03],\n",
       "       [3.0662220e-03, 3.7825236e-01, 2.8724715e-05, 1.2009477e-05,\n",
       "        2.3597895e-06, 3.0877720e-07, 1.6751982e-06, 7.0039903e-08,\n",
       "        6.1733341e-01, 1.3029062e-03],\n",
       "       [1.8215219e-02, 2.9266456e-01, 4.3926528e-03, 9.7134998e-03,\n",
       "        2.0850657e-03, 1.2024022e-03, 6.7367329e-04, 2.0557488e-03,\n",
       "        6.2923557e-01, 3.9761610e-02],\n",
       "       [7.6908255e-01, 3.0205334e-02, 2.3325097e-02, 1.6164489e-03,\n",
       "        3.4867199e-03, 7.6745264e-04, 3.0505765e-04, 1.6386186e-04,\n",
       "        1.6974589e-01, 1.3015316e-03],\n",
       "       [8.8987545e-06, 6.9280213e-05, 1.7766504e-02, 1.4562392e-01,\n",
       "        3.9428526e-01, 2.8750049e-03, 4.3662289e-01, 3.2929258e-04,\n",
       "        2.4098950e-03, 9.2002956e-06]], dtype=float32)"
      ]
     },
     "execution_count": 22,
     "metadata": {},
     "output_type": "execute_result"
    }
   ],
   "source": [
    "Target_predictions = CNN.predict(Features_test)\n",
    "Target_predictions[:5]"
   ]
  },
  {
   "cell_type": "code",
   "execution_count": 23,
   "id": "07acc784",
   "metadata": {},
   "outputs": [
    {
     "data": {
      "text/plain": [
       "[np.int64(3), np.int64(8), np.int64(8), np.int64(0), np.int64(6)]"
      ]
     },
     "execution_count": 23,
     "metadata": {},
     "output_type": "execute_result"
    }
   ],
   "source": [
    "Target_classes = [np.argmax(element) for element in Target_predictions]\n",
    "Target_classes[:5]"
   ]
  },
  {
   "cell_type": "code",
   "execution_count": 24,
   "id": "1f1ce334",
   "metadata": {},
   "outputs": [
    {
     "data": {
      "text/plain": [
       "array([3, 8, 8, 0, 6], dtype=uint8)"
      ]
     },
     "execution_count": 24,
     "metadata": {},
     "output_type": "execute_result"
    }
   ],
   "source": [
    "Target_test[:5]"
   ]
  },
  {
   "cell_type": "code",
   "execution_count": 38,
   "id": "3f7b56b7",
   "metadata": {},
   "outputs": [
    {
     "data": {
      "text/plain": [
       "'airplane'"
      ]
     },
     "execution_count": 38,
     "metadata": {},
     "output_type": "execute_result"
    },
    {
     "data": {
      "image/png": "[encoded data removed]",
      "text/plain": [
       "<Figure size 1500x200 with 1 Axes>"
      ]
     },
     "metadata": {},
     "output_type": "display_data"
    }
   ],
   "source": [
    "plot_sample(Features_test, Target_test,3)\n",
    "Classes[Target_classes[3]]"
   ]
  },
  {
   "cell_type": "markdown",
   "id": "fc78b524",
   "metadata": {},
   "source": [
    "`On Some Examples its not giving Correct Outcome but works fine on 3, 5, 8, 11 etc randomly checked`"
   ]
  },
  {
   "cell_type": "code",
   "execution_count": 41,
   "id": "8d6fadab",
   "metadata": {},
   "outputs": [
    {
     "data": {
      "text/plain": [
       "'horse'"
      ]
     },
     "execution_count": 41,
     "metadata": {},
     "output_type": "execute_result"
    },
    {
     "data": {
      "image/png": "[encoded data removed]",
      "text/plain": [
       "<Figure size 1500x200 with 1 Axes>"
      ]
     },
     "metadata": {},
     "output_type": "display_data"
    }
   ],
   "source": [
    "Input = 13\n",
    "plot_sample(Features_test, Target_test,Input) \n",
    "Classes[Target_classes[Input]]"
   ]
  }
 ],
 "metadata": {
  "kernelspec": {
   "display_name": "Python 3 (ipykernel)",
   "language": "python",
   "name": "python3"
  },
  "language_info": {
   "codemirror_mode": {
    "name": "ipython",
    "version": 3
   },
   "file_extension": ".py",
   "mimetype": "text/x-python",
   "name": "python",
   "nbconvert_exporter": "python",
   "pygments_lexer": "ipython3",
   "version": "3.13.5"
  }
 },
 "nbformat": 4,
 "nbformat_minor": 5
}
