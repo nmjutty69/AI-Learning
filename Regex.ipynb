{
 "cells": [
  {
   "cell_type": "code",
   "execution_count": 1,
   "id": "1f522a6f",
   "metadata": {},
   "outputs": [],
   "source": [
    "import regex as re"
   ]
  },
  {
   "cell_type": "code",
   "execution_count": 17,
   "id": "7b5193e5",
   "metadata": {},
   "outputs": [],
   "source": [
    "text = \"\"\"\n",
    "Hello, my name is Nauman and I am a student of Computer Science.\n",
    "Emails: nauman123@gmail.com, test.user@university.edu, fake_email@wrong.pk\n",
    "Usernames: @nauman, @coder_99, @!invalid_user\n",
    "Dates: 2025-08-03, 03/08/2025, 08-03-25\n",
    "Scores: 98, 76, 100, 59\n",
    "Message IDs: MSG#001, MSG#002, MSG#final\n",
    "Text with     multiple    spaces.\n",
    "The price is $29.99 or maybe ₹2500 or €300.\n",
    "End.\n",
    "\"\"\""
   ]
  },
  {
   "cell_type": "code",
   "execution_count": 18,
   "id": "5d60b3e6",
   "metadata": {},
   "outputs": [
    {
     "name": "stdout",
     "output_type": "stream",
     "text": [
      "2025-08-03\n"
     ]
    }
   ],
   "source": [
    "# Search() ISO-Style Date Pattern\n",
    "\n",
    "pattern = r\"\\d{4}-\\d{2}-\\d{2}\"\n",
    "match = re.search(pattern, text)\n",
    "print(match.group())"
   ]
  },
  {
   "cell_type": "code",
   "execution_count": 19,
   "id": "48c2ab80",
   "metadata": {},
   "outputs": [
    {
     "name": "stdout",
     "output_type": "stream",
     "text": [
      "['nauman123@gmail.com', 'test.user@university.edu', 'fake_email@wrong.pk']\n"
     ]
    }
   ],
   "source": [
    "#FindAll() All Emails in text\n",
    "\n",
    "pattern = r\"[a-zA-Z0-9._%+-]+@[a-zA-Z0-9.-]+\\.[a-zA-Z]{2,}\"\n",
    "emails = re.findall(pattern, text)\n",
    "print(emails)"
   ]
  },
  {
   "cell_type": "code",
   "execution_count": 23,
   "id": "be830fd3",
   "metadata": {},
   "outputs": [
    {
     "name": "stdout",
     "output_type": "stream",
     "text": [
      "\n",
      "Hello, my name is Nauman and I am a student of Computer Science.\n",
      "Emails: nauman123@gmail.com, test.user@university.edu, fake_email@wrong.pk\n",
      "Usernames: [NOMI], [NOMI], @!invalid_user\n",
      "Dates: 2025-08-03, 03/08/2025, 08-03-25\n",
      "Scores: 98, 76, 100, 59\n",
      "Message IDs: MSG#001, MSG#002, MSG#final\n",
      "Text with     multiple    spaces.\n",
      "The price is $29.99 or maybe ₹2500 or €300.\n",
      "End.\n",
      "\n"
     ]
    }
   ],
   "source": [
    "# Sub() Replacing Substrings\n",
    "\n",
    "pattern = r\"\\B@[\\w]+\"  # usernames\n",
    "cleaned_text = re.sub(pattern, \"[NOMI]\", text)\n",
    "print(cleaned_text)"
   ]
  },
  {
   "cell_type": "code",
   "execution_count": 25,
   "id": "c90f7b60",
   "metadata": {},
   "outputs": [
    {
     "name": "stdout",
     "output_type": "stream",
     "text": [
      "['Hello,', 'my', 'name', 'is', 'Nauman']\n"
     ]
    }
   ],
   "source": [
    "# Split() Splits on Specific\n",
    "\n",
    "pattern = r\"\\s+\"                            # one or more whitespace chars\n",
    "words = re.split(pattern, text.strip())\n",
    "print(words[:5])                           # show first 10 words"
   ]
  }
 ],
 "metadata": {
  "kernelspec": {
   "display_name": "Python 3 (ipykernel)",
   "language": "python",
   "name": "python3"
  }
 },
 "nbformat": 4,
 "nbformat_minor": 5
}
